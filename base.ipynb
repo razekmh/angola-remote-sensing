{
 "cells": [
  {
   "cell_type": "code",
   "execution_count": null,
   "id": "93be3d81",
   "metadata": {},
   "outputs": [],
   "source": [
    "PROJECT_ID = 'razekmh-angola'"
   ]
  },
  {
   "cell_type": "code",
   "execution_count": null,
   "metadata": {},
   "outputs": [],
   "source": [
    "# install libraries\n",
    "! pip install -q earthengine-api geemap"
   ]
  },
  {
   "cell_type": "code",
   "execution_count": 2,
   "id": "daab4110",
   "metadata": {},
   "outputs": [],
   "source": [
    "# import libraries\n",
    "import ee\n",
    "import geemap"
   ]
  },
  {
   "cell_type": "code",
   "execution_count": null,
   "id": "28d66c06",
   "metadata": {},
   "outputs": [],
   "source": [
    "# authenticate and initialize Earth Engine API\n",
    "try:\n",
    "    ee.authenticate()\n",
    "    ee.Initialize(project=PROJECT_ID)\n",
    "    print('The Earth Engine package initialized successfully!')\n",
    "except ee.EEException as e:\n",
    "    print('The Earth Engine package failed to initialize!')\n"
   ]
  },
  {
   "cell_type": "code",
   "execution_count": null,
   "id": "d3209be6",
   "metadata": {},
   "outputs": [],
   "source": []
  }
 ],
 "metadata": {
  "kernelspec": {
   "display_name": "Python 3 (ipykernel)",
   "language": "python",
   "name": "python3"
  },
  "language_info": {
   "codemirror_mode": {
    "name": "ipython",
    "version": 3
   },
   "file_extension": ".py",
   "mimetype": "text/x-python",
   "name": "python",
   "nbconvert_exporter": "python",
   "pygments_lexer": "ipython3",
   "version": "3.11.5"
  }
 },
 "nbformat": 4,
 "nbformat_minor": 5
}
